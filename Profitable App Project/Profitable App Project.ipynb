{
 "cells": [
  {
   "cell_type": "markdown",
   "metadata": {},
   "source": [
    "# App Store and Google Play In-App Profits\n",
    "\n",
    "This is a data analysis portfolio project I worked through using DataQuest. The goal of this project is to analyze data in which helps developers understand what kind of Android and iOS apps are profitable and which attract more users on Google Play and the App Store. In this project, we will only work with apps that are free to download and install.\n",
    "\n",
    "Since we're only working with apps that are free to download and install, it is important to focus on *in-app ads* as our main source of revenue. In other words, we want to determine how many users engage with the ads. The more users engage with the ads, the better for profit."
   ]
  },
  {
   "cell_type": "markdown",
   "metadata": {},
   "source": [
    "## Understanding and Exploring our Data\n",
    "\n",
    "As of September 2018, there were approximately 2 million iOS apps available on the App Store, and 2.1 million Android apps on Google Play.\n",
    "*Source: [Statista](https://www.statista.com/statistics/276623/number-of-apps-available-in-leading-app-stores/)*\n",
    "\n",
    "Collecting data for over 4 million apps would be *way too much* to take on for this project! So, let's focus on a sample of the data. We're going to use these two datasets:\n",
    "* [This dataset](https://www.kaggle.com/lava18/google-play-store-apps) contains approximately 10,000 Android apps from Google Play. The data was collected in August 2018. You can download the data set directly [here](https://dq-content.s3.amazonaws.com/350/googleplaystore.csv).\n",
    "* [This dataset](https://www.kaggle.com/ramamet4/app-store-apple-data-set-10k-apps) contains approximately 7,000 iOS apps from the App Store. The data was collected in July 2017. You can download the data set directly [here](https://dq-content.s3.amazonaws.com/350/AppleStore.csv).\n",
    "\n",
    "***\n",
    "\n",
    "Let's start opening and exploring the two data sets we're working with."
   ]
  },
  {
   "cell_type": "code",
   "execution_count": 1,
   "metadata": {},
   "outputs": [],
   "source": [
    "from csv import reader\n",
    "\n",
    "apple_dataset = 'AppleStore.csv'\n",
    "apple_file = open(apple_dataset)\n",
    "read_apple = reader(apple_file)\n",
    "ios_data = list(read_apple)\n",
    "ios_header = ios_data[0]\n",
    "ios_data = ios_data[1:]\n",
    "\n",
    "android_dataset = 'googleplaystore.csv'\n",
    "android_file = open(android_dataset)\n",
    "read_android = reader(android_file)\n",
    "android_data = list(read_android)\n",
    "android_header = android_data[0]\n",
    "android_data = android_data[1:]"
   ]
  },
  {
   "cell_type": "code",
   "execution_count": 2,
   "metadata": {},
   "outputs": [],
   "source": [
    "def explore_data(dataset, start, end, rows_columns=False):\n",
    "    dataset_slice = dataset[start:end]\n",
    "    for i in dataset_slice:\n",
    "        print(i)\n",
    "        print('\\n')\n",
    "    if rows_columns:\n",
    "        print('Number of rows:', len(dataset))\n",
    "        print('Number of columns:', len(dataset[0]))"
   ]
  },
  {
   "cell_type": "markdown",
   "metadata": {},
   "source": [
    "Let's explore the Apple dataset first."
   ]
  },
  {
   "cell_type": "code",
   "execution_count": 3,
   "metadata": {},
   "outputs": [
    {
     "name": "stdout",
     "output_type": "stream",
     "text": [
      "['id', 'track_name', 'size_bytes', 'currency', 'price', 'rating_count_tot', 'rating_count_ver', 'user_rating', 'user_rating_ver', 'ver', 'cont_rating', 'prime_genre', 'sup_devices.num', 'ipadSc_urls.num', 'lang.num', 'vpp_lic']\n",
      "\n",
      "\n",
      "['284882215', 'Facebook', '389879808', 'USD', '0.0', '2974676', '212', '3.5', '3.5', '95.0', '4+', 'Social Networking', '37', '1', '29', '1']\n",
      "\n",
      "\n",
      "['389801252', 'Instagram', '113954816', 'USD', '0.0', '2161558', '1289', '4.5', '4.0', '10.23', '12+', 'Photo & Video', '37', '0', '29', '1']\n",
      "\n",
      "\n",
      "['529479190', 'Clash of Clans', '116476928', 'USD', '0.0', '2130805', '579', '4.5', '4.5', '9.24.12', '9+', 'Games', '38', '5', '18', '1']\n",
      "\n",
      "\n",
      "['420009108', 'Temple Run', '65921024', 'USD', '0.0', '1724546', '3842', '4.5', '4.0', '1.6.2', '9+', 'Games', '40', '5', '1', '1']\n",
      "\n",
      "\n",
      "['284035177', 'Pandora - Music & Radio', '130242560', 'USD', '0.0', '1126879', '3594', '4.0', '4.5', '8.4.1', '12+', 'Music', '37', '4', '1', '1']\n",
      "\n",
      "\n",
      "Number of rows: 7197\n",
      "Number of columns: 16\n"
     ]
    }
   ],
   "source": [
    "## Explore the Apple data set\n",
    "print(ios_header)\n",
    "print('\\n')\n",
    "explore_data(ios_data, 0, 5, True)"
   ]
  },
  {
   "cell_type": "markdown",
   "metadata": {},
   "source": [
    "We should identify which columns would help us with our analysis. There are 7197 apps and 16 columns. The columns that might be useful are:\n",
    "\n",
    "* `track_name` to identify what the app name is.\n",
    "* `currency` to identify which type of currency the app is.\n",
    "* `price` to identify the price of the app.\n",
    "* `rating_count_tot` to identify the total number of ratings based on **all versions** of the app.\n",
    "* `rating_count_ver` to identify the total number of ratings based on the **current version** of the app.\n",
    "* `prime_genre` to identify the genre of the app.\n",
    "\n",
    "Now let's explore the Android dataset."
   ]
  },
  {
   "cell_type": "code",
   "execution_count": 4,
   "metadata": {},
   "outputs": [
    {
     "name": "stdout",
     "output_type": "stream",
     "text": [
      "['App', 'Category', 'Rating', 'Reviews', 'Size', 'Installs', 'Type', 'Price', 'Content Rating', 'Genres', 'Last Updated', 'Current Ver', 'Android Ver']\n",
      "\n",
      "\n",
      "['Photo Editor & Candy Camera & Grid & ScrapBook', 'ART_AND_DESIGN', '4.1', '159', '19M', '10,000+', 'Free', '0', 'Everyone', 'Art & Design', 'January 7, 2018', '1.0.0', '4.0.3 and up']\n",
      "\n",
      "\n",
      "['Coloring book moana', 'ART_AND_DESIGN', '3.9', '967', '14M', '500,000+', 'Free', '0', 'Everyone', 'Art & Design;Pretend Play', 'January 15, 2018', '2.0.0', '4.0.3 and up']\n",
      "\n",
      "\n",
      "['U Launcher Lite – FREE Live Cool Themes, Hide Apps', 'ART_AND_DESIGN', '4.7', '87510', '8.7M', '5,000,000+', 'Free', '0', 'Everyone', 'Art & Design', 'August 1, 2018', '1.2.4', '4.0.3 and up']\n",
      "\n",
      "\n",
      "['Sketch - Draw & Paint', 'ART_AND_DESIGN', '4.5', '215644', '25M', '50,000,000+', 'Free', '0', 'Teen', 'Art & Design', 'June 8, 2018', 'Varies with device', '4.2 and up']\n",
      "\n",
      "\n",
      "['Pixel Draw - Number Art Coloring Book', 'ART_AND_DESIGN', '4.3', '967', '2.8M', '100,000+', 'Free', '0', 'Everyone', 'Art & Design;Creativity', 'June 20, 2018', '1.1', '4.4 and up']\n",
      "\n",
      "\n",
      "Number of rows: 10841\n",
      "Number of columns: 13\n"
     ]
    }
   ],
   "source": [
    "## Explore the Android data set\n",
    "print(android_header)\n",
    "print('\\n')\n",
    "explore_data(android_data, 0, 5, True)"
   ]
  },
  {
   "cell_type": "markdown",
   "metadata": {},
   "source": [
    "In the Android dataset, there are 10841 apps and 13 columns. The columns that might be useful are:\n",
    "\n",
    "* `App` to identify the name of the app.\n",
    "* `Category` to identify the category the app belongs to.\n",
    "* `Reviews` to identify the total number of user reviews for the app.\n",
    "* `Installs` to identify the total number of user installs for the app.\n",
    "* `Type` to identify if the app is paid or free.\n",
    "* `Price` to identify the price of the app.\n",
    "* `Genres` to identify the genre of the app."
   ]
  },
  {
   "cell_type": "markdown",
   "metadata": {},
   "source": [
    "***\n",
    "\n",
    "## Data Cleaning\n",
    "\n",
    "Next, we need to do **data cleaning** before our analysis. This involves removing or correcting any inaccurate/duplicate data.\n",
    "\n",
    "The Google Play dataset has a dedicated [discussion section](https://www.kaggle.com/lava18/google-play-store-apps/discussion). In the discussion section, [one of the discussions](https://www.kaggle.com/lava18/google-play-store-apps/discussion/66015) mentions an error for a certain row.\n",
    "\n",
    "### Inaccurate Data\n",
    "\n",
    "According to the discussion section, this entry has a missing column. The maximum app rating is 5, so since the rating for row 10472 is 19, this is inaccurate. So, let's delete this entry."
   ]
  },
  {
   "cell_type": "code",
   "execution_count": 5,
   "metadata": {},
   "outputs": [
    {
     "name": "stdout",
     "output_type": "stream",
     "text": [
      "10840\n"
     ]
    }
   ],
   "source": [
    "del(android_data[10472])\n",
    "print(len(android_data))"
   ]
  },
  {
   "cell_type": "markdown",
   "metadata": {},
   "source": [
    "### Duplicate Entries\n",
    "\n",
    "Now, let's take a look at any duplicate entries. According to the Google Play dataset [discussions section](https://www.kaggle.com/lava18/google-play-store-apps/discussion), some apps have duplicate entries. So, we should see how many times a duplicate app appears."
   ]
  },
  {
   "cell_type": "code",
   "execution_count": 6,
   "metadata": {},
   "outputs": [
    {
     "name": "stdout",
     "output_type": "stream",
     "text": [
      "Number of duplicate apps: 1181\n",
      "\n",
      "\n",
      "Examples of duplicate apps: ['Quick PDF Scanner + OCR FREE', 'Box', 'Google My Business', 'ZOOM Cloud Meetings', 'join.me - Simple Meetings', 'Box', 'Zenefits', 'Google Ads', 'Google My Business', 'Slack', 'FreshBooks Classic', 'Insightly CRM', 'QuickBooks Accounting: Invoicing & Expenses', 'HipChat - Chat Built for Teams', 'Xero Accounting Software']\n"
     ]
    }
   ],
   "source": [
    "duplicates = []\n",
    "uniques = []\n",
    "\n",
    "for a in android_data:\n",
    "    a_name = a[0]\n",
    "    if a_name in uniques:\n",
    "        duplicates.append(a_name)\n",
    "    else:\n",
    "        uniques.append(a_name)\n",
    "\n",
    "print('Number of duplicate apps: {}'.format(len(duplicates)))\n",
    "print('\\n')\n",
    "print('Examples of duplicate apps:', duplicates[:15])"
   ]
  },
  {
   "cell_type": "markdown",
   "metadata": {},
   "source": [
    "Now that we've counted and confirmed the number of duplicate apps, we need to remove these entries. However, we shouldn't remove them arbitrarily. \n",
    "\n",
    "Since there are a different number of total user reviews per entry, it would be helpful to use the most *recent* entry. In other words, the higher the number of total user reviews is, the more recent the data is."
   ]
  },
  {
   "cell_type": "code",
   "execution_count": 7,
   "metadata": {},
   "outputs": [],
   "source": [
    "max_reviews = {}\n",
    "\n",
    "for a in android_data:\n",
    "    a_name = a[0]\n",
    "    a_reviews = float(a[3])\n",
    "    \n",
    "    if a_name in max_reviews and max_reviews[a_name] < a_reviews:\n",
    "        max_reviews[a_name] = a_reviews\n",
    "\n",
    "    elif a_name not in max_reviews:\n",
    "        max_reviews[a_name] = a_reviews"
   ]
  },
  {
   "cell_type": "markdown",
   "metadata": {},
   "source": [
    "So, the dictionary `max_reviews` will contain **unique keys**, or unique apps. This is because the above code loops through the Android dataset and adds entries to the dictionary with each key as an app name, and each corresponding value as the app's highest number of user reviews. Since each value is the app's highest number of user reviews, each entry will be unique, as desired.\n",
    "\n",
    "We know that there are 1181 duplicates. After we remove the duplicates, we should be left with 9659 rows. Why? Because the number of apps in our Android dataset is 10840. Hence, 10840 - 1181 = 9659."
   ]
  },
  {
   "cell_type": "code",
   "execution_count": 8,
   "metadata": {},
   "outputs": [
    {
     "name": "stdout",
     "output_type": "stream",
     "text": [
      "Expected: 9659\n",
      "Actual:  9659\n"
     ]
    }
   ],
   "source": [
    "print('Expected:', len(android_data) - 1181)\n",
    "print('Actual: ', len(max_reviews))"
   ]
  },
  {
   "cell_type": "markdown",
   "metadata": {},
   "source": [
    "Let's use the dictionary to create our cleaned Android dataset without any duplicates. In order to do this, we need to:\n",
    "\n",
    "* Create two lists. We'll create one list, `android_clean` and another list, `android_added`. \n",
    "\n",
    "* Loop through the Android dataset and pull each app name and the total number of user reviews.\n",
    "\n",
    "* If the total number of user reviews of the pulled app matches the total number of user reviews of the app in `max_reviews`, then that must be the highest number of user reviews for the pulled app! If we're going to go ahead and add it to `android_clean`, then we also need to make sure it isn't already in `android_added`. \n",
    "\n",
    "* The reason why we need to make sure it isn't already in `android_added` is because it's possible that multiple entries have the *same* total number of user reviews. If we didn't have this condition, we'd risk having more duplicates."
   ]
  },
  {
   "cell_type": "code",
   "execution_count": 9,
   "metadata": {},
   "outputs": [],
   "source": [
    "android_clean = []\n",
    "android_added = []\n",
    "\n",
    "for a in android_data:\n",
    "    a_name = a[0]\n",
    "    a_reviews = float(a[3])\n",
    "    \n",
    "    if (max_reviews[a_name] == a_reviews) and (a_name not in android_added):\n",
    "        android_clean.append(a)\n",
    "        android_added.append(a_name)"
   ]
  },
  {
   "cell_type": "markdown",
   "metadata": {},
   "source": [
    "Let's explore the new data set to confirm our cleaned dataset has the correct number of rows."
   ]
  },
  {
   "cell_type": "code",
   "execution_count": 10,
   "metadata": {},
   "outputs": [
    {
     "name": "stdout",
     "output_type": "stream",
     "text": [
      "['Photo Editor & Candy Camera & Grid & ScrapBook', 'ART_AND_DESIGN', '4.1', '159', '19M', '10,000+', 'Free', '0', 'Everyone', 'Art & Design', 'January 7, 2018', '1.0.0', '4.0.3 and up']\n",
      "\n",
      "\n",
      "['U Launcher Lite – FREE Live Cool Themes, Hide Apps', 'ART_AND_DESIGN', '4.7', '87510', '8.7M', '5,000,000+', 'Free', '0', 'Everyone', 'Art & Design', 'August 1, 2018', '1.2.4', '4.0.3 and up']\n",
      "\n",
      "\n",
      "['Sketch - Draw & Paint', 'ART_AND_DESIGN', '4.5', '215644', '25M', '50,000,000+', 'Free', '0', 'Teen', 'Art & Design', 'June 8, 2018', 'Varies with device', '4.2 and up']\n",
      "\n",
      "\n",
      "Number of rows: 9659\n",
      "Number of columns: 13\n"
     ]
    }
   ],
   "source": [
    "explore_data(android_clean, 0, 3, True)"
   ]
  },
  {
   "cell_type": "markdown",
   "metadata": {},
   "source": [
    "We have 9659 rows, as desired. In the App Store dataset, there are no duplicates.\n",
    "\n",
    "### Non-English Apps\n",
    "\n",
    "Next, since we're focusing on our apps being geared towards an English-speaking users in this project, we're going to need to only analyze apps that are for English-speaking users. \n",
    "\n",
    "In both data sets, there are apps with names that likely weren't designed for English-speaking users. See examples below."
   ]
  },
  {
   "cell_type": "code",
   "execution_count": 11,
   "metadata": {},
   "outputs": [
    {
     "name": "stdout",
     "output_type": "stream",
     "text": [
      "【脱出ゲーム】絶対に最後までプレイしないで 〜謎解き＆ブロックパズル〜\n",
      "\n",
      "\n",
      "中国語 AQリスニング\n"
     ]
    }
   ],
   "source": [
    "## Apple data ##\n",
    "print(ios_data[6731][1])\n",
    "print('\\n')\n",
    "\n",
    "## Android data ##\n",
    "print(android_clean[4412][0])"
   ]
  },
  {
   "cell_type": "markdown",
   "metadata": {},
   "source": [
    "Since these apps aren't useful for our analysis, it's best to just remove them. We can start by seeing which app names contain a non-English character.\n",
    "\n",
    "Using the `ord()` function will allow us to see a corresponding number for each character."
   ]
  },
  {
   "cell_type": "code",
   "execution_count": 12,
   "metadata": {},
   "outputs": [
    {
     "name": "stdout",
     "output_type": "stream",
     "text": [
      "97\n",
      "26368\n"
     ]
    }
   ],
   "source": [
    "print(ord('a'))\n",
    "print(ord('最'))"
   ]
  },
  {
   "cell_type": "markdown",
   "metadata": {},
   "source": [
    "You can see the corresponding number for \"最\" is 26368.\n",
    "\n",
    "According to the [ASCII](https://en.wikipedia.org/wiki/ASCII), the numbers corresponding to characters in English text are within the range of 0 to 127. Therefore, we can assume that if a character is non-English, it would have a value greater than 127.\n",
    "\n",
    "We can use this to determine whether an app name contains a non-English character."
   ]
  },
  {
   "cell_type": "code",
   "execution_count": 13,
   "metadata": {},
   "outputs": [
    {
     "name": "stdout",
     "output_type": "stream",
     "text": [
      "True\n",
      "True\n",
      "False\n",
      "False\n",
      "False\n"
     ]
    }
   ],
   "source": [
    "def eng_char(string):\n",
    "    for char in string:\n",
    "        if ord(char) > 127:\n",
    "            return False\n",
    "    return True\n",
    "\n",
    "print(eng_char('Facebook'))\n",
    "print(eng_char('Instagram'))\n",
    "print(eng_char('中国語 AQリスニング'))\n",
    "print(eng_char('Docs To Go™ Free Office Suite'))\n",
    "print(eng_char('Instachat 😜'))"
   ]
  },
  {
   "cell_type": "markdown",
   "metadata": {},
   "source": [
    "There's one issue with using the above function even though it technically *can* correctly determine whether a character is English or not. \n",
    "\n",
    "In some English app names, there are uses of emojis or symbols that may exceed the ASCII range. We'd be significantly losing data if we removed every app that contained an emoji or symbol.\n",
    "\n",
    "In order to prevent a significant loss of data, we should only remove an app if its name has more than three characters with corresponding numbers that exceed the ASCII range. "
   ]
  },
  {
   "cell_type": "code",
   "execution_count": 14,
   "metadata": {},
   "outputs": [
    {
     "name": "stdout",
     "output_type": "stream",
     "text": [
      "True\n",
      "True\n"
     ]
    }
   ],
   "source": [
    "def eng_char(string):\n",
    "    non_eng = 0\n",
    "    for char in string:\n",
    "        if ord(char) > 127:\n",
    "            non_eng += 1\n",
    "    if non_eng > 3:\n",
    "        return False\n",
    "    else:\n",
    "        return True\n",
    "\n",
    "print(eng_char('Docs To Go™ Free Office Suite'))\n",
    "print(eng_char('Instachat 😜'))"
   ]
  },
  {
   "cell_type": "markdown",
   "metadata": {},
   "source": [
    "That should be good enough. Now, let's use this function to filter out non-English apps from both datasets."
   ]
  },
  {
   "cell_type": "code",
   "execution_count": 15,
   "metadata": {},
   "outputs": [],
   "source": [
    "android_eng = []\n",
    "ios_eng = []\n",
    "\n",
    "for a in android_clean:\n",
    "    a_name = a[0]\n",
    "    if eng_char(a_name):\n",
    "        android_eng.append(a)\n",
    "    \n",
    "for a in ios_data:\n",
    "    a_name = a[1]\n",
    "    if eng_char(a_name):\n",
    "        ios_eng.append(a)"
   ]
  },
  {
   "cell_type": "markdown",
   "metadata": {},
   "source": [
    "Let's explore the data."
   ]
  },
  {
   "cell_type": "code",
   "execution_count": 16,
   "metadata": {},
   "outputs": [
    {
     "name": "stdout",
     "output_type": "stream",
     "text": [
      "['Photo Editor & Candy Camera & Grid & ScrapBook', 'ART_AND_DESIGN', '4.1', '159', '19M', '10,000+', 'Free', '0', 'Everyone', 'Art & Design', 'January 7, 2018', '1.0.0', '4.0.3 and up']\n",
      "\n",
      "\n",
      "['U Launcher Lite – FREE Live Cool Themes, Hide Apps', 'ART_AND_DESIGN', '4.7', '87510', '8.7M', '5,000,000+', 'Free', '0', 'Everyone', 'Art & Design', 'August 1, 2018', '1.2.4', '4.0.3 and up']\n",
      "\n",
      "\n",
      "['Sketch - Draw & Paint', 'ART_AND_DESIGN', '4.5', '215644', '25M', '50,000,000+', 'Free', '0', 'Teen', 'Art & Design', 'June 8, 2018', 'Varies with device', '4.2 and up']\n",
      "\n",
      "\n",
      "Number of rows: 9614\n",
      "Number of columns: 13\n",
      "\n",
      "\n",
      "['284882215', 'Facebook', '389879808', 'USD', '0.0', '2974676', '212', '3.5', '3.5', '95.0', '4+', 'Social Networking', '37', '1', '29', '1']\n",
      "\n",
      "\n",
      "['389801252', 'Instagram', '113954816', 'USD', '0.0', '2161558', '1289', '4.5', '4.0', '10.23', '12+', 'Photo & Video', '37', '0', '29', '1']\n",
      "\n",
      "\n",
      "['529479190', 'Clash of Clans', '116476928', 'USD', '0.0', '2130805', '579', '4.5', '4.5', '9.24.12', '9+', 'Games', '38', '5', '18', '1']\n",
      "\n",
      "\n",
      "Number of rows: 6183\n",
      "Number of columns: 16\n"
     ]
    }
   ],
   "source": [
    "explore_data(android_eng, 0, 3, True)\n",
    "print('\\n')\n",
    "explore_data(ios_eng, 0, 3, True)"
   ]
  },
  {
   "cell_type": "markdown",
   "metadata": {},
   "source": [
    "After filtering out non-English apps, we have 9614 Android apps and 6183 iOS apps\n",
    "\n",
    "So far, we were able to successfully clean the data in order to:\n",
    "\n",
    "* Remove inaccurate data\n",
    "* Remove duplicate entries\n",
    "* Remove non-English apps\n",
    "\n",
    "We have one more step in the data cleaning process."
   ]
  },
  {
   "cell_type": "markdown",
   "metadata": {},
   "source": [
    "### Isolating Free Apps\n",
    "\n",
    "As mentioned earlier, we're only focusing on apps that are *free* to download and install. So, we need to clean our datasets a bit more since they both contain free apps and non-free apps."
   ]
  },
  {
   "cell_type": "code",
   "execution_count": 17,
   "metadata": {},
   "outputs": [
    {
     "name": "stdout",
     "output_type": "stream",
     "text": [
      "Total android apps: 8864\n",
      "Total iOS apps: 3222\n"
     ]
    }
   ],
   "source": [
    "android_new = []\n",
    "ios_new = []\n",
    "\n",
    "for a in android_eng:\n",
    "    a_price = a[7]\n",
    "    if a_price == '0':\n",
    "        android_new.append(a)\n",
    "\n",
    "for a in ios_eng:\n",
    "    a_price = a[4]\n",
    "    if a_price == '0.0' or a_price == '0':\n",
    "        ios_new.append(a)\n",
    "\n",
    "print('Total android apps: {}'.format(len(android_new)))\n",
    "print('Total iOS apps: {}'.format(len(ios_new)))"
   ]
  },
  {
   "cell_type": "markdown",
   "metadata": {},
   "source": [
    "After cleaning the data, we have a total of 8864 Android apps and 3222 iOS apps remaining.\n",
    "***"
   ]
  },
  {
   "cell_type": "markdown",
   "metadata": {},
   "source": [
    "## Validation Strategy\n",
    "\n",
    "Now that we've went through cleaning the data, we can refocus on our goal. Ultimately, we want to determine which kinds of apps are likely to attract users for our source of revenue.\n",
    "\n",
    "To minimize and prevent risk, we ideally want a validation strategy for an app:\n",
    "\n",
    "1. Build a minimal Android version of the app, and add it to Google Play.\n",
    "2. If the app has a good response from users, develop it further.\n",
    "3. If the app is profitable after six months, build an iOS version of the app and add it to the App Store.\n",
    "\n",
    "Since our end goal is to successfully add a profitable app on Google Play and the App Store, we want to find app profiles that are successful in *both* markets. \n",
    "\n",
    "### Most Common Apps by Genre\n",
    "\n",
    "Let's start by determining the most common genres for each market. We need to build frequency tables for the relevant columns in our datasets. Since we're concentrating on the most common genres for each market, it might be helpful to use the `Genres` and `Category` columns from the Android dataset, and `prime_genre` from the App Store dataset."
   ]
  },
  {
   "cell_type": "code",
   "execution_count": 18,
   "metadata": {},
   "outputs": [],
   "source": [
    "def freq_table(dataset, index):\n",
    "    table_dict = {}\n",
    "    running_total = 0\n",
    "    \n",
    "    for i in dataset:\n",
    "        running_total += 1\n",
    "        val = i[index]\n",
    "        if val in table_dict:\n",
    "            table_dict[val] += 1\n",
    "        else:\n",
    "            table_dict[val] = 1\n",
    "            \n",
    "    table_percents = {}\n",
    "    for key in table_dict:\n",
    "        percent = (table_dict[key] / running_total) * 100\n",
    "        table_percents[key] = percent\n",
    "        \n",
    "    return table_percents\n",
    "\n",
    "def display_table(dataset, index):\n",
    "    table = freq_table(dataset, index)\n",
    "    table_display = []\n",
    "    for key in table:\n",
    "        key_val_as_tuple = (table[key], key)\n",
    "        table_display.append(key_val_as_tuple)\n",
    "        \n",
    "    table_sorted = sorted(table_display, reverse = True)\n",
    "    for entry in table_sorted:\n",
    "        print(entry[1], ':', entry[0])"
   ]
  },
  {
   "cell_type": "code",
   "execution_count": 19,
   "metadata": {},
   "outputs": [
    {
     "name": "stdout",
     "output_type": "stream",
     "text": [
      "Games : 58.16263190564867\n",
      "Entertainment : 7.883302296710118\n",
      "Photo & Video : 4.9658597144630665\n",
      "Education : 3.662321539416512\n",
      "Social Networking : 3.2898820608317814\n",
      "Shopping : 2.60707635009311\n",
      "Utilities : 2.5139664804469275\n",
      "Sports : 2.1415270018621975\n",
      "Music : 2.0484171322160147\n",
      "Health & Fitness : 2.0173805090006205\n",
      "Productivity : 1.7380509000620732\n",
      "Lifestyle : 1.5828677839851024\n",
      "News : 1.3345747982619491\n",
      "Travel : 1.2414649286157666\n",
      "Finance : 1.1173184357541899\n",
      "Weather : 0.8690254500310366\n",
      "Food & Drink : 0.8069522036002483\n",
      "Reference : 0.5586592178770949\n",
      "Business : 0.5276225946617008\n",
      "Book : 0.4345127250155183\n",
      "Navigation : 0.186219739292365\n",
      "Medical : 0.186219739292365\n",
      "Catalogs : 0.12414649286157665\n"
     ]
    }
   ],
   "source": [
    "## iOS Genre\n",
    "display_table(ios_new, 11)"
   ]
  },
  {
   "cell_type": "markdown",
   "metadata": {},
   "source": [
    "Among free English iOS apps, more than half (58.16%) are games. The most common genre is gaming.\n",
    "\n",
    "The next most common genre would be Entertainment at about 8%. Photo & video apps are just underneath Entertainment at about 5%. \n",
    "\n",
    "The general impression is that most apps are designed for gaming and entertainment purposes (games, photo and video, social networking) as opposed to practical purposes (education, shopping, utilities, productivity). \n",
    "\n",
    "However, we cannot recommend an app profile based on this. If there is a large number of apps for a particular genre, this does not necessarily mean it has a large number of users. Let's take a look at the frequency table for the Google Play dataset."
   ]
  },
  {
   "cell_type": "code",
   "execution_count": 20,
   "metadata": {},
   "outputs": [
    {
     "name": "stdout",
     "output_type": "stream",
     "text": [
      "FAMILY : 18.907942238267147\n",
      "GAME : 9.724729241877256\n",
      "TOOLS : 8.461191335740072\n",
      "BUSINESS : 4.591606498194946\n",
      "LIFESTYLE : 3.9034296028880866\n",
      "PRODUCTIVITY : 3.892148014440433\n",
      "FINANCE : 3.7003610108303246\n",
      "MEDICAL : 3.531137184115524\n",
      "SPORTS : 3.395758122743682\n",
      "PERSONALIZATION : 3.3167870036101084\n",
      "COMMUNICATION : 3.2378158844765346\n",
      "HEALTH_AND_FITNESS : 3.0798736462093865\n",
      "PHOTOGRAPHY : 2.944494584837545\n",
      "NEWS_AND_MAGAZINES : 2.7978339350180503\n",
      "SOCIAL : 2.6624548736462095\n",
      "TRAVEL_AND_LOCAL : 2.33528880866426\n",
      "SHOPPING : 2.2450361010830324\n",
      "BOOKS_AND_REFERENCE : 2.1435018050541514\n",
      "DATING : 1.861462093862816\n",
      "VIDEO_PLAYERS : 1.7937725631768955\n",
      "MAPS_AND_NAVIGATION : 1.3989169675090252\n",
      "FOOD_AND_DRINK : 1.2409747292418771\n",
      "EDUCATION : 1.1620036101083033\n",
      "ENTERTAINMENT : 0.9589350180505415\n",
      "LIBRARIES_AND_DEMO : 0.9363718411552346\n",
      "AUTO_AND_VEHICLES : 0.9250902527075812\n",
      "HOUSE_AND_HOME : 0.8235559566787004\n",
      "WEATHER : 0.8009927797833934\n",
      "EVENTS : 0.7107400722021661\n",
      "PARENTING : 0.6543321299638989\n",
      "ART_AND_DESIGN : 0.6430505415162455\n",
      "COMICS : 0.6204873646209386\n",
      "BEAUTY : 0.5979241877256317\n"
     ]
    }
   ],
   "source": [
    "## Android Category\n",
    "display_table(android_new, 1)"
   ]
  },
  {
   "cell_type": "markdown",
   "metadata": {},
   "source": [
    "This is pretty different than what we've seen from our App Store frequency table. Family is the most common genre at about 19%. Unlike the App Store, a large number of apps are designed for productivity purposes (tools, business, lifestyle, productivity, finance, medical).\n",
    "\n",
    "Let's take a deeper look by checking out the `Genres` column."
   ]
  },
  {
   "cell_type": "code",
   "execution_count": 21,
   "metadata": {},
   "outputs": [
    {
     "name": "stdout",
     "output_type": "stream",
     "text": [
      "Tools : 8.449909747292418\n",
      "Entertainment : 6.069494584837545\n",
      "Education : 5.347472924187725\n",
      "Business : 4.591606498194946\n",
      "Productivity : 3.892148014440433\n",
      "Lifestyle : 3.892148014440433\n",
      "Finance : 3.7003610108303246\n",
      "Medical : 3.531137184115524\n",
      "Sports : 3.463447653429603\n",
      "Personalization : 3.3167870036101084\n",
      "Communication : 3.2378158844765346\n",
      "Action : 3.1024368231046933\n",
      "Health & Fitness : 3.0798736462093865\n",
      "Photography : 2.944494584837545\n",
      "News & Magazines : 2.7978339350180503\n",
      "Social : 2.6624548736462095\n",
      "Travel & Local : 2.3240072202166067\n",
      "Shopping : 2.2450361010830324\n",
      "Books & Reference : 2.1435018050541514\n",
      "Simulation : 2.0419675090252705\n",
      "Dating : 1.861462093862816\n",
      "Arcade : 1.8501805054151623\n",
      "Video Players & Editors : 1.7712093862815883\n",
      "Casual : 1.7599277978339352\n",
      "Maps & Navigation : 1.3989169675090252\n",
      "Food & Drink : 1.2409747292418771\n",
      "Puzzle : 1.128158844765343\n",
      "Racing : 0.9927797833935018\n",
      "Role Playing : 0.9363718411552346\n",
      "Libraries & Demo : 0.9363718411552346\n",
      "Auto & Vehicles : 0.9250902527075812\n",
      "Strategy : 0.9138086642599278\n",
      "House & Home : 0.8235559566787004\n",
      "Weather : 0.8009927797833934\n",
      "Events : 0.7107400722021661\n",
      "Adventure : 0.6768953068592057\n",
      "Comics : 0.6092057761732852\n",
      "Beauty : 0.5979241877256317\n",
      "Art & Design : 0.5979241877256317\n",
      "Parenting : 0.4963898916967509\n",
      "Card : 0.45126353790613716\n",
      "Casino : 0.42870036101083037\n",
      "Trivia : 0.41741877256317694\n",
      "Educational;Education : 0.39485559566787\n",
      "Board : 0.3835740072202166\n",
      "Educational : 0.3722924187725632\n",
      "Education;Education : 0.33844765342960287\n",
      "Word : 0.2594765342960289\n",
      "Casual;Pretend Play : 0.236913357400722\n",
      "Music : 0.2030685920577617\n",
      "Racing;Action & Adventure : 0.16922382671480143\n",
      "Puzzle;Brain Games : 0.16922382671480143\n",
      "Entertainment;Music & Video : 0.16922382671480143\n",
      "Casual;Brain Games : 0.13537906137184114\n",
      "Casual;Action & Adventure : 0.13537906137184114\n",
      "Arcade;Action & Adventure : 0.12409747292418773\n",
      "Action;Action & Adventure : 0.10153429602888085\n",
      "Educational;Pretend Play : 0.09025270758122744\n",
      "Simulation;Action & Adventure : 0.078971119133574\n",
      "Parenting;Education : 0.078971119133574\n",
      "Entertainment;Brain Games : 0.078971119133574\n",
      "Board;Brain Games : 0.078971119133574\n",
      "Parenting;Music & Video : 0.06768953068592057\n",
      "Educational;Brain Games : 0.06768953068592057\n",
      "Casual;Creativity : 0.06768953068592057\n",
      "Art & Design;Creativity : 0.06768953068592057\n",
      "Education;Pretend Play : 0.056407942238267145\n",
      "Role Playing;Pretend Play : 0.04512635379061372\n",
      "Education;Creativity : 0.04512635379061372\n",
      "Role Playing;Action & Adventure : 0.033844765342960284\n",
      "Puzzle;Action & Adventure : 0.033844765342960284\n",
      "Entertainment;Creativity : 0.033844765342960284\n",
      "Entertainment;Action & Adventure : 0.033844765342960284\n",
      "Educational;Creativity : 0.033844765342960284\n",
      "Educational;Action & Adventure : 0.033844765342960284\n",
      "Education;Music & Video : 0.033844765342960284\n",
      "Education;Brain Games : 0.033844765342960284\n",
      "Education;Action & Adventure : 0.033844765342960284\n",
      "Adventure;Action & Adventure : 0.033844765342960284\n",
      "Video Players & Editors;Music & Video : 0.02256317689530686\n",
      "Sports;Action & Adventure : 0.02256317689530686\n",
      "Simulation;Pretend Play : 0.02256317689530686\n",
      "Puzzle;Creativity : 0.02256317689530686\n",
      "Music;Music & Video : 0.02256317689530686\n",
      "Entertainment;Pretend Play : 0.02256317689530686\n",
      "Casual;Education : 0.02256317689530686\n",
      "Board;Action & Adventure : 0.02256317689530686\n",
      "Video Players & Editors;Creativity : 0.01128158844765343\n",
      "Trivia;Education : 0.01128158844765343\n",
      "Travel & Local;Action & Adventure : 0.01128158844765343\n",
      "Tools;Education : 0.01128158844765343\n",
      "Strategy;Education : 0.01128158844765343\n",
      "Strategy;Creativity : 0.01128158844765343\n",
      "Strategy;Action & Adventure : 0.01128158844765343\n",
      "Simulation;Education : 0.01128158844765343\n",
      "Role Playing;Brain Games : 0.01128158844765343\n",
      "Racing;Pretend Play : 0.01128158844765343\n",
      "Puzzle;Education : 0.01128158844765343\n",
      "Parenting;Brain Games : 0.01128158844765343\n",
      "Music & Audio;Music & Video : 0.01128158844765343\n",
      "Lifestyle;Pretend Play : 0.01128158844765343\n",
      "Lifestyle;Education : 0.01128158844765343\n",
      "Health & Fitness;Education : 0.01128158844765343\n",
      "Health & Fitness;Action & Adventure : 0.01128158844765343\n",
      "Entertainment;Education : 0.01128158844765343\n",
      "Communication;Creativity : 0.01128158844765343\n",
      "Comics;Creativity : 0.01128158844765343\n",
      "Casual;Music & Video : 0.01128158844765343\n",
      "Card;Action & Adventure : 0.01128158844765343\n",
      "Books & Reference;Education : 0.01128158844765343\n",
      "Art & Design;Pretend Play : 0.01128158844765343\n",
      "Art & Design;Action & Adventure : 0.01128158844765343\n",
      "Arcade;Pretend Play : 0.01128158844765343\n",
      "Adventure;Education : 0.01128158844765343\n"
     ]
    }
   ],
   "source": [
    "## Android Genres\n",
    "display_table(android_new, -4)"
   ]
  },
  {
   "cell_type": "markdown",
   "metadata": {},
   "source": [
    "The number of categories under `Genres` can be a bit overwhelming and too granular, so it's best to focus on the `Category` column.\n",
    "\n",
    "Overall, we've found that the App Store contains apps that are designed for fun whereas Google Play has a bit more productivity in its store."
   ]
  },
  {
   "cell_type": "markdown",
   "metadata": {},
   "source": [
    "### Most Popular Apps by Genre\n",
    "\n",
    "Next, let's check out which kinds of apps has the most users. We can calculate the average number of installs for each app genre.\n",
    "\n",
    "For the Google Play data set, we'll use the `Installs` column and for the App Store data set, we'll use the `rating_count_tot` since there is no installs information.\n",
    "\n",
    "#### App Store"
   ]
  },
  {
   "cell_type": "code",
   "execution_count": 22,
   "metadata": {},
   "outputs": [
    {
     "name": "stdout",
     "output_type": "stream",
     "text": [
      "Social Networking : 71548.34905660378\n",
      "Photo & Video : 28441.54375\n",
      "Games : 22788.6696905016\n",
      "Music : 57326.530303030304\n",
      "Reference : 74942.11111111111\n",
      "Health & Fitness : 23298.015384615384\n",
      "Weather : 52279.892857142855\n",
      "Utilities : 18684.456790123455\n",
      "Travel : 28243.8\n",
      "Shopping : 26919.690476190477\n",
      "News : 21248.023255813954\n",
      "Navigation : 86090.33333333333\n",
      "Lifestyle : 16485.764705882353\n",
      "Entertainment : 14029.830708661417\n",
      "Food & Drink : 33333.92307692308\n",
      "Sports : 23008.898550724636\n",
      "Book : 39758.5\n",
      "Finance : 31467.944444444445\n",
      "Education : 7003.983050847458\n",
      "Productivity : 21028.410714285714\n",
      "Business : 7491.117647058823\n",
      "Catalogs : 4004.0\n",
      "Medical : 612.0\n"
     ]
    }
   ],
   "source": [
    "ios_genres = freq_table(ios_new, 11)\n",
    "\n",
    "\n",
    "for i in ios_genres:\n",
    "    total = 0\n",
    "    genre_len = 0\n",
    "    for a in ios_new:\n",
    "        app_genre = a[11]\n",
    "        if app_genre == i:\n",
    "            a_ratings = float(a[5])\n",
    "            total += a_ratings\n",
    "            genre_len += 1\n",
    "    avg_a_rat = total / genre_len\n",
    "    print(i, ': {}'.format(avg_a_rat))"
   ]
  },
  {
   "cell_type": "markdown",
   "metadata": {},
   "source": [
    "Navigation has the highest number of user reviews on average. Let's dig a little deeper into this."
   ]
  },
  {
   "cell_type": "code",
   "execution_count": 23,
   "metadata": {},
   "outputs": [
    {
     "name": "stdout",
     "output_type": "stream",
     "text": [
      "Waze - GPS Navigation, Maps & Real-time Traffic : 345046\n",
      "Google Maps - Navigation & Transit : 154911\n",
      "Geocaching® : 12811\n",
      "CoPilot GPS – Car Navigation & Offline Maps : 3582\n",
      "ImmobilienScout24: Real Estate Search in Germany : 187\n",
      "Railway Route Search : 5\n"
     ]
    }
   ],
   "source": [
    "for a in ios_new:\n",
    "    if a[11] == 'Navigation':\n",
    "        print(a[1], ':', a[5])"
   ]
  },
  {
   "cell_type": "markdown",
   "metadata": {},
   "source": [
    "It's important to point out the two dominating apps here. Waze and Google Maps both significantly drown out the other apps in terms of user reviews. This has a large influence on why the average number of user reviews for Navigation apps is so high.\n",
    "\n",
    "We can see that References has the second highest number of user reviews on average. Let's dig a little deeper into this one."
   ]
  },
  {
   "cell_type": "code",
   "execution_count": 24,
   "metadata": {},
   "outputs": [
    {
     "name": "stdout",
     "output_type": "stream",
     "text": [
      "Bible : 985920\n",
      "Dictionary.com Dictionary & Thesaurus : 200047\n",
      "Dictionary.com Dictionary & Thesaurus for iPad : 54175\n",
      "Google Translate : 26786\n",
      "Muslim Pro: Ramadan 2017 Prayer Times, Azan, Quran : 18418\n",
      "New Furniture Mods - Pocket Wiki & Game Tools for Minecraft PC Edition : 17588\n",
      "Merriam-Webster Dictionary : 16849\n",
      "Night Sky : 12122\n",
      "City Maps for Minecraft PE - The Best Maps for Minecraft Pocket Edition (MCPE) : 8535\n",
      "LUCKY BLOCK MOD ™ for Minecraft PC Edition - The Best Pocket Wiki & Mods Installer Tools : 4693\n",
      "GUNS MODS for Minecraft PC Edition - Mods Tools : 1497\n",
      "Guides for Pokémon GO - Pokemon GO News and Cheats : 826\n",
      "WWDC : 762\n",
      "Horror Maps for Minecraft PE - Download The Scariest Maps for Minecraft Pocket Edition (MCPE) Free : 718\n",
      "VPN Express : 14\n",
      "Real Bike Traffic Rider Virtual Reality Glasses : 8\n",
      "教えて!goo : 0\n",
      "Jishokun-Japanese English Dictionary & Translator : 0\n"
     ]
    }
   ],
   "source": [
    "for a in ios_new:\n",
    "    if a[11] == 'Reference':\n",
    "        print(a[1], ':', a[5])"
   ]
  },
  {
   "cell_type": "markdown",
   "metadata": {},
   "source": [
    "We can see a similar scenario here. Bible dominates with a whopping *985920* user reviews! And Dictionary.com is right below it with 200047 user reviews.\n",
    "\n",
    "So what does this mean? Well, Navigation and Reference apps aren't exactly \"fun\" apps. In other words, there could be potential for an app designed for practical purpose in the iOS market. However, Navigation has more dominating apps compared to Reference, so it might be easier to slide into that market if we want to develop a new app idea.\n",
    "\n",
    "Let's move onto Google Play."
   ]
  },
  {
   "cell_type": "markdown",
   "metadata": {},
   "source": [
    "#### Google Play"
   ]
  },
  {
   "cell_type": "code",
   "execution_count": 25,
   "metadata": {},
   "outputs": [
    {
     "name": "stdout",
     "output_type": "stream",
     "text": [
      "1,000,000+ : 15.726534296028879\n",
      "100,000+ : 11.552346570397113\n",
      "10,000,000+ : 10.548285198555957\n",
      "10,000+ : 10.198555956678701\n",
      "1,000+ : 8.393501805054152\n",
      "100+ : 6.915613718411552\n",
      "5,000,000+ : 6.825361010830325\n",
      "500,000+ : 5.561823104693141\n",
      "50,000+ : 4.7721119133574\n",
      "5,000+ : 4.512635379061372\n",
      "10+ : 3.5424187725631766\n",
      "500+ : 3.2490974729241873\n",
      "50,000,000+ : 2.3014440433213\n",
      "100,000,000+ : 2.1322202166064983\n",
      "50+ : 1.917870036101083\n",
      "5+ : 0.78971119133574\n",
      "1+ : 0.5076714801444043\n",
      "500,000,000+ : 0.2707581227436823\n",
      "1,000,000,000+ : 0.22563176895306858\n",
      "0+ : 0.04512635379061372\n",
      "0 : 0.01128158844765343\n"
     ]
    }
   ],
   "source": [
    "display_table(android_new, 5)"
   ]
  },
  {
   "cell_type": "markdown",
   "metadata": {},
   "source": [
    "We already have information on the number of installs, so viewing the data is pretty straightforward. Since we need to calculate the average number of user installs, we'll also need to convert every install number to `float` (commas and plus characters will raise an error)."
   ]
  },
  {
   "cell_type": "code",
   "execution_count": 26,
   "metadata": {},
   "outputs": [
    {
     "name": "stdout",
     "output_type": "stream",
     "text": [
      "ART_AND_DESIGN : 1986335.0877192982\n",
      "AUTO_AND_VEHICLES : 647317.8170731707\n",
      "BEAUTY : 513151.88679245283\n",
      "BOOKS_AND_REFERENCE : 8767811.894736841\n",
      "BUSINESS : 1712290.1474201474\n",
      "COMICS : 817657.2727272727\n",
      "COMMUNICATION : 38456119.167247385\n",
      "DATING : 854028.8303030303\n",
      "EDUCATION : 1833495.145631068\n",
      "ENTERTAINMENT : 11640705.88235294\n",
      "EVENTS : 253542.22222222222\n",
      "FINANCE : 1387692.475609756\n",
      "FOOD_AND_DRINK : 1924897.7363636363\n",
      "HEALTH_AND_FITNESS : 4188821.9853479853\n",
      "HOUSE_AND_HOME : 1331540.5616438356\n",
      "LIBRARIES_AND_DEMO : 638503.734939759\n",
      "LIFESTYLE : 1437816.2687861272\n",
      "GAME : 15588015.603248259\n",
      "FAMILY : 3695641.8198090694\n",
      "MEDICAL : 120550.61980830671\n",
      "SOCIAL : 23253652.127118643\n",
      "SHOPPING : 7036877.311557789\n",
      "PHOTOGRAPHY : 17840110.40229885\n",
      "SPORTS : 3638640.1428571427\n",
      "TRAVEL_AND_LOCAL : 13984077.710144928\n",
      "TOOLS : 10801391.298666667\n",
      "PERSONALIZATION : 5201482.6122448975\n",
      "PRODUCTIVITY : 16787331.344927534\n",
      "PARENTING : 542603.6206896552\n",
      "WEATHER : 5074486.197183099\n",
      "VIDEO_PLAYERS : 24727872.452830188\n",
      "NEWS_AND_MAGAZINES : 9549178.467741935\n",
      "MAPS_AND_NAVIGATION : 4056941.7741935486\n"
     ]
    }
   ],
   "source": [
    "android_cats = freq_table(android_new, 1)\n",
    "\n",
    "for c in android_cats:\n",
    "    total = 0\n",
    "    cat_len = 0\n",
    "    for a in android_new:\n",
    "        cat_app = a[1]\n",
    "        if cat_app == c:\n",
    "            a_installs = a[5]\n",
    "            a_installs = a_installs.replace('+', '')\n",
    "            a_installs = a_installs.replace(',', '')\n",
    "            total += float(a_installs)\n",
    "            cat_len += 1\n",
    "    avg_num_installs = total / cat_len\n",
    "    print(c, ': {}'.format(avg_num_installs))"
   ]
  },
  {
   "cell_type": "markdown",
   "metadata": {},
   "source": [
    "We can see that communication apps, on average, have the highest number of installs. Let's take a deeper look into this."
   ]
  },
  {
   "cell_type": "code",
   "execution_count": 27,
   "metadata": {},
   "outputs": [
    {
     "name": "stdout",
     "output_type": "stream",
     "text": [
      "WhatsApp Messenger : 1,000,000,000+\n",
      "Google Duo - High Quality Video Calls : 500,000,000+\n",
      "Messenger – Text and Video Chat for Free : 1,000,000,000+\n",
      "imo free video calls and chat : 500,000,000+\n",
      "Skype - free IM & video calls : 1,000,000,000+\n",
      "LINE: Free Calls & Messages : 500,000,000+\n",
      "Google Chrome: Fast & Secure : 1,000,000,000+\n",
      "UC Browser - Fast Download Private & Secure : 500,000,000+\n",
      "Gmail : 1,000,000,000+\n",
      "Hangouts : 1,000,000,000+\n",
      "Viber Messenger : 500,000,000+\n"
     ]
    }
   ],
   "source": [
    "for a in android_new:\n",
    "    if a[1] == 'COMMUNICATION' and (a[5] == '1,000,000,000+' or a[5] == '500,000,000+'):\n",
    "        print(a[0], ':', a[5])"
   ]
  },
  {
   "cell_type": "markdown",
   "metadata": {},
   "source": [
    "Similar to what we saw in the App Store, there are a few apps that dominate the Communication category. WhatsApp Messenger, Google Duo, Messenger, Skype, Google Chrome, Gmail are a few leading apps. However, since these apps drown out the others, it can largely influence the average number of communication apps installed.\n",
    "\n",
    "Since we saw potential for the Reference genre in the App Store, I think it would be a good idea to check out that category in Google Play. The Books and Reference category has an average of 8767811 installs, which isn't bad! Let's look into that a bit further."
   ]
  },
  {
   "cell_type": "code",
   "execution_count": 28,
   "metadata": {},
   "outputs": [
    {
     "name": "stdout",
     "output_type": "stream",
     "text": [
      "Google Play Books : 1,000,000,000+\n",
      "Bible : 100,000,000+\n",
      "Amazon Kindle : 100,000,000+\n",
      "Wattpad 📖 Free Books : 100,000,000+\n",
      "Audiobooks from Audible : 100,000,000+\n"
     ]
    }
   ],
   "source": [
    "for a in android_new:\n",
    "    if a[1] == 'BOOKS_AND_REFERENCE' and (a[5] == '1,000,000,000+' or a[5] == '500,000,000+'or a[5] == '100,000,000+'):\n",
    "        print(a[0], ':', a[5])"
   ]
  },
  {
   "cell_type": "markdown",
   "metadata": {},
   "source": [
    "We can see there are only a few leading apps here, so there might be a promising market for an app idea."
   ]
  },
  {
   "cell_type": "code",
   "execution_count": 29,
   "metadata": {},
   "outputs": [
    {
     "name": "stdout",
     "output_type": "stream",
     "text": [
      "Wikipedia : 10,000,000+\n",
      "Cool Reader : 10,000,000+\n",
      "Book store : 1,000,000+\n",
      "FBReader: Favorite Book Reader : 10,000,000+\n",
      "Free Books - Spirit Fanfiction and Stories : 1,000,000+\n",
      "FamilySearch Tree : 1,000,000+\n",
      "Cloud of Books : 1,000,000+\n",
      "ReadEra – free ebook reader : 1,000,000+\n",
      "eBoox: book reader fb2 epub zip : 1,000,000+\n",
      "All Maths Formulas : 1,000,000+\n",
      "HTC Help : 10,000,000+\n",
      "Moon+ Reader : 10,000,000+\n",
      "English-Myanmar Dictionary : 1,000,000+\n",
      "Golden Dictionary (EN-AR) : 1,000,000+\n",
      "All Language Translator Free : 1,000,000+\n",
      "Aldiko Book Reader : 10,000,000+\n",
      "Al-Quran (Free) : 10,000,000+\n",
      "Al Quran Indonesia : 10,000,000+\n",
      "Al'Quran Bahasa Indonesia : 10,000,000+\n",
      "Al Quran Al karim : 1,000,000+\n",
      "Koran Read &MP3 30 Juz Offline : 1,000,000+\n",
      "Hafizi Quran 15 lines per page : 1,000,000+\n",
      "Quran for Android : 10,000,000+\n",
      "Satellite AR : 1,000,000+\n",
      "Oxford A-Z of English Usage : 1,000,000+\n",
      "Dictionary.com: Find Definitions for English Words : 10,000,000+\n",
      "English Dictionary - Offline : 10,000,000+\n",
      "NOOK: Read eBooks & Magazines : 10,000,000+\n",
      "Brilliant Quotes: Life, Love, Family & Motivation : 1,000,000+\n",
      "Stats Royale for Clash Royale : 1,000,000+\n",
      "Dictionary : 10,000,000+\n",
      "wikiHow: how to do anything : 1,000,000+\n",
      "EGW Writings : 1,000,000+\n",
      "My Little Pony AR Guide : 1,000,000+\n",
      "Spanish English Translator : 10,000,000+\n",
      "Dictionary - Merriam-Webster : 10,000,000+\n",
      "JW Library : 10,000,000+\n",
      "Oxford Dictionary of English : Free : 10,000,000+\n",
      "English Hindi Dictionary : 10,000,000+\n"
     ]
    }
   ],
   "source": [
    "for a in android_new:\n",
    "    if a[1] == 'BOOKS_AND_REFERENCE' and (a[5] == '1,000,000+' or a[5] == '50,000,000+'or a[5] == '10,000,000+'):\n",
    "        print(a[0], ':', a[5])"
   ]
  },
  {
   "cell_type": "markdown",
   "metadata": {},
   "source": [
    "There's a wide variety of plenty e-books, quote apps, cloud-based softwares for books, and religious texts. So, this might serve as a good starting point for an app idea. There are only two dominating Reference apps in the App Store and five in Google Play. Compared to other genres and categories, this allows some room in the market for a new and hopefully profitable app!\n",
    "***"
   ]
  },
  {
   "cell_type": "markdown",
   "metadata": {},
   "source": [
    "## Conclusion\n",
    "\n",
    "Overall, we were able to analyze data about the App Store and Google play to recommend a profitable app in both markets for developers. Since we were working with free apps, we targeted in-app ads as our main source of revenue and dug deeper into customer engagement across different app profiles.\n",
    "\n",
    "In our results, we were able to conclude that although the market seems a bit intimidating due to some tech giants, there could be some room for a new app idea which would possibly include e-reading, quotes, dictionary references, or religious text."
   ]
  }
 ],
 "metadata": {
  "kernelspec": {
   "display_name": "Python 3",
   "language": "python",
   "name": "python3"
  },
  "language_info": {
   "codemirror_mode": {
    "name": "ipython",
    "version": 3
   },
   "file_extension": ".py",
   "mimetype": "text/x-python",
   "name": "python",
   "nbconvert_exporter": "python",
   "pygments_lexer": "ipython3",
   "version": "3.8.2"
  }
 },
 "nbformat": 4,
 "nbformat_minor": 2
}
